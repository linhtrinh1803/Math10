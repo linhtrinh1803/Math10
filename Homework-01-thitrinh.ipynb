{
 "cells": [
  {
   "cell_type": "markdown",
   "metadata": {},
   "source": [
    "# Homework 1\n",
    "## Thi Trinh - 20461296"
   ]
  },
  {
   "cell_type": "markdown",
   "metadata": {},
   "source": [
    "### [Fundamental Theorem of Calculus](https://mathworld.wolfram.com/FundamentalTheoremsofCalculus.html)"
   ]
  },
  {
   "cell_type": "markdown",
   "metadata": {},
   "source": [
    "The first fundamental theorem of calculus states that, if $f$ is continuous on the closed interval $[a,b]$ and $F$ is the indefinite integral of $f$ on $[a,b]$ then \n",
    "$$\\int_{a}^{b}f(x)dx = F(b) - F(a)$$\n",
    "This result, while taught early in elementary calculus courses, is actually a very deep result connecting the purely algebraic indefinite integral and the purely analytic (or geometric) definite integral\n",
    "\n",
    "The second fundamental theorem of calculus holds for $f$ a continuous function on an open interval $I$ and $a$ any point in $I$, and states that if $F$ is defined by\n",
    "$$F(x) = \\int_{a}^{x}f(t)dt$$\n",
    "then \n",
    "$$F'(x) = f(x)$$\n",
    "at each point in $I$. \n",
    "\n",
    "The fundamental theorem of calculus along curves states that if $f(z)$ has a continuous indefinite integral $F(z)$ in a region $R$ containing a parameterized curve $\\gamma : z = z(t)$ for $\\alpha \\leq t \\leq \\beta$ then \n",
    "$$\\int_{\\gamma} f(z)dz = F(z(\\beta)) - F(z(\\alpha))$$"
   ]
  }
 ],
 "metadata": {
  "kernelspec": {
   "display_name": "Python 3",
   "language": "python",
   "name": "python3"
  },
  "language_info": {
   "codemirror_mode": {
    "name": "ipython",
    "version": 3
   },
   "file_extension": ".py",
   "mimetype": "text/x-python",
   "name": "python",
   "nbconvert_exporter": "python",
   "pygments_lexer": "ipython3",
   "version": "3.8.5"
  }
 },
 "nbformat": 4,
 "nbformat_minor": 4
}
