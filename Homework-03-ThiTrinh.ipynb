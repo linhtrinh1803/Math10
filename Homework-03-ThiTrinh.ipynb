{
 "cells": [
  {
   "cell_type": "markdown",
   "metadata": {},
   "source": [
    "# Homework 3\n",
    "###  Thi Trinh - 20461296\n",
    "\n",
    "This homework has two problems. Please fill the code block cells with your code and comments, ***run*** everything (select `cell` in the menu, and click `Run all`), save the notebook, and upload it to canvas."
   ]
  },
  {
   "cell_type": "markdown",
   "metadata": {},
   "source": [
    "## Problem 1: Triangle Class\n",
    "\n",
    "Define the class named `Triangle`, which takes three positive number $a,b,c$ as the input to initialize the instance, representing the length of three sides. The class should have \n",
    "- three attributes named a,b,c corresponding to the input.\n",
    "- a method named `is_triangle`, which returns `True` if the three number forms a valid triangle, and `False` othersie.\n",
    "- a method named `perimeter`, which returns the perimeter of triangle. \n",
    "- a method named `area`, which returns the area of triangle. *Hint: you can use [Heron's formula](https://www.mathsisfun.com/geometry/herons-formula.html)*\n",
    "- a method named `height`, which returns a list containg the three heights corresponded to the three input bases."
   ]
  },
  {
   "cell_type": "code",
   "execution_count": 17,
   "metadata": {},
   "outputs": [],
   "source": [
    "import math\n",
    "\n",
    "class Triangle:\n",
    "    '''Define the triangle'''\n",
    "    \n",
    "    def __init__(self,a,b,c):\n",
    "        '''initialize triangle by providing a,b,c as input'''\n",
    "        if not all(map(lambda x: isinstance(x,(float,int)),(a,b,c))):\n",
    "            raise TypeError(\"All three inputs should be numbers!\")\n",
    "        self.a = a\n",
    "        self.b = b\n",
    "        self.c = c\n",
    "        \n",
    "    def is_triangle(self):\n",
    "        '''Determine of the three numbers can form a triangle'''\n",
    "        if self.a+self.b > self.c and self.a + self.c > self.b and self.b + self.c > self.a:\n",
    "            return True\n",
    "        else:\n",
    "            return False\n",
    "    \n",
    "    def perimeter(self):\n",
    "        '''calculate the perimeter of the triangle'''\n",
    "        return self.a+self.b+self.c  \n",
    "    \n",
    "    def area(self):\n",
    "        '''calculae the area of the triangle'''\n",
    "        s = (self.a + self.b + self.c)/2\n",
    "        area = math.sqrt(s*(s-self.a)*(s-self.b)*(s-self.c))\n",
    "        return area\n",
    "    \n",
    "    def height(self):\n",
    "        '''calculate three heights corresponding to three sides'''\n",
    "        s = (self.a + self.b + self.c)/2\n",
    "        area = math.sqrt(s*(s-self.a)*(s-self.b)*(s-self.c))\n",
    "        ha = 2*area/self.a\n",
    "        hb = 2*area/self.b\n",
    "        hc = 2*area/self.c\n",
    "        return ha, hb, hc"
   ]
  },
  {
   "cell_type": "markdown",
   "metadata": {},
   "source": [
    "When your code is done, run it and test the class with following piplines -- Please re-run and save the results below."
   ]
  },
  {
   "cell_type": "code",
   "execution_count": 18,
   "metadata": {},
   "outputs": [
    {
     "data": {
      "text/plain": [
       "False"
      ]
     },
     "execution_count": 18,
     "metadata": {},
     "output_type": "execute_result"
    }
   ],
   "source": [
    "triangle_1 = Triangle(1.0,2.0,3.0)\n",
    "triangle_1.is_triangle()"
   ]
  },
  {
   "cell_type": "code",
   "execution_count": 20,
   "metadata": {},
   "outputs": [
    {
     "name": "stdout",
     "output_type": "stream",
     "text": [
      "True\n",
      "12.0\n",
      "6.0\n",
      "(4.0, 3.0, 2.4)\n"
     ]
    }
   ],
   "source": [
    "triangle_2 = Triangle(3.0,4.0,5.0)\n",
    "print(triangle_2.is_triangle())\n",
    "print(triangle_2.perimeter())\n",
    "print(triangle_2.area())\n",
    "print(triangle_2.height())"
   ]
  },
  {
   "cell_type": "markdown",
   "metadata": {},
   "source": [
    "Note that your defined methods should be valid for any triangle instead of special ones."
   ]
  },
  {
   "cell_type": "markdown",
   "metadata": {},
   "source": [
    "## Problem 2: Line Class\n",
    "\n",
    "Define the class called `Line` which represents a line with equation $y = kx + b$ with input slope $k$ and intercept $b$ to initialize the instances. It should include:\n",
    "- attributes named $k$ and $b$ to represent slope and intercept.\n",
    "- method named `intersect` to return the list, containing coordinates of the intersection point of two lines.\n",
    "- support for `+` operator to compute the addition of two equations. The sum of two `Line` objects $y=k_{1}x+b_{1}$ and $y=k_{2}x+b_{2}$ is defined as the line $y=(k_{1}+k_{2})x+b_{1}+b_{2}$.\n",
    "- printable representation for the equation of line, which we have already defined in `__repr__` speical method below."
   ]
  },
  {
   "cell_type": "code",
   "execution_count": 52,
   "metadata": {},
   "outputs": [],
   "source": [
    "class Line:\n",
    "    '''write your codes below (don't forget to change the doc strings)'''\n",
    "    \n",
    "    def __init__(self, k, b):\n",
    "        '''Initializing the line by taking k,b as input'''\n",
    "        self.k = k\n",
    "        self.b = b\n",
    "    \n",
    "    def __repr__(self):\n",
    "        '''printable representation of the line by equation y = k*x+b'''\n",
    "        return 'line y = %r*x + %r' % (self.k, self.b)\n",
    "\n",
    "    def __add__(self,other):\n",
    "        '''compute the addition of the two equation'''\n",
    "        return Line(self.k+other.k, self.b+other.b)\n",
    "        \n",
    "    def intersect(self,other):\n",
    "        '''find the intersecton of two lines'''\n",
    "        x =(self.b-other.b)/(other.k-self.k)\n",
    "        y = self.k*x+self.b\n",
    "        return x,y\n",
    "    "
   ]
  },
  {
   "cell_type": "markdown",
   "metadata": {},
   "source": [
    "When your code is done, run it and test the class with following piplines -- Please re-run and save the results below."
   ]
  },
  {
   "cell_type": "code",
   "execution_count": 26,
   "metadata": {},
   "outputs": [],
   "source": [
    "line1 = Line(2,1)\n",
    "line2 = Line(1,2)\n",
    "line3 = line1+line2"
   ]
  },
  {
   "cell_type": "code",
   "execution_count": 27,
   "metadata": {},
   "outputs": [
    {
     "data": {
      "text/plain": [
       "line y = 3*x + 3"
      ]
     },
     "execution_count": 27,
     "metadata": {},
     "output_type": "execute_result"
    }
   ],
   "source": [
    "line3"
   ]
  },
  {
   "cell_type": "code",
   "execution_count": 53,
   "metadata": {},
   "outputs": [
    {
     "name": "stdout",
     "output_type": "stream",
     "text": [
      "None\n"
     ]
    }
   ],
   "source": [
    "point = line1.intersect(line2)\n",
    "print(point)"
   ]
  },
  {
   "cell_type": "code",
   "execution_count": 51,
   "metadata": {
    "scrolled": true
   },
   "outputs": [
    {
     "name": "stdout",
     "output_type": "stream",
     "text": [
      "(1.0, 3.0)\n"
     ]
    }
   ],
   "source": [
    "print(Line.intersect(line1,line2))"
   ]
  },
  {
   "cell_type": "code",
   "execution_count": 54,
   "metadata": {},
   "outputs": [
    {
     "name": "stdout",
     "output_type": "stream",
     "text": [
      "(1.0, 3.0)\n"
     ]
    }
   ],
   "source": [
    "point  = Line.intersect(line1,line2)\n",
    "print(point)"
   ]
  },
  {
   "cell_type": "code",
   "execution_count": null,
   "metadata": {},
   "outputs": [],
   "source": []
  }
 ],
 "metadata": {
  "kernelspec": {
   "display_name": "Python 3",
   "language": "python",
   "name": "python3"
  },
  "language_info": {
   "codemirror_mode": {
    "name": "ipython",
    "version": 3
   },
   "file_extension": ".py",
   "mimetype": "text/x-python",
   "name": "python",
   "nbconvert_exporter": "python",
   "pygments_lexer": "ipython3",
   "version": "3.8.5"
  }
 },
 "nbformat": 4,
 "nbformat_minor": 4
}
